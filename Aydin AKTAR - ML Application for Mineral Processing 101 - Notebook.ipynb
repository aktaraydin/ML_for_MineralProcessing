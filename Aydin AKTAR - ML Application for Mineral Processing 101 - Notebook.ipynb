{
 "cells": [
  {
   "cell_type": "markdown",
   "metadata": {},
   "source": [
    "<img src=\"photo_top.jpg\" width=\"500\" align=\"center\">\n",
    "\n",
    "<p><a href=\"https://www.ausimmbulletin.com/app/uploads/2019/08/Mining-Key-Visual3-1570x740.jpg\"></a></p>\n"
   ]
  },
  {
   "cell_type": "markdown",
   "metadata": {},
   "source": [
    " <b><p style=\"text-align:center;\"><font size =\"6\" color =\"Black\">\n",
    "    Machine Learning Application for Mineral Processing 101\n",
    "    </font></b>\n",
    "    <hr>\n",
    " \n",
    " <b><p style=\"text-align:center;\"><font size =\"3\" color =\"Black\">Just for the Beginnig...</font></b> \n",
    " <hr>"
   ]
  },
  {
   "cell_type": "markdown",
   "metadata": {},
   "source": [
    " <hr>\n",
    " <b><p style=\"text-align:right;\"><font size =\"3\" color =\"Black\">Aydin AKTAR</font></b>\n",
    " <b><p style=\"text-align:right;\"><font size =\"3\" color =\"Black\">Mineral Processing Engineer</font></b>\n",
    "  <b><p style=\"text-align:right;\"><font size =\"3\" color =\"Black\">aktaraydin@gmail.com</font></b>\n",
    "  <b><p style=\"text-align:right;\"><a href=\"www.linkedin.com/in/aktaraydin\">Linkedin</a></font></b>\n",
    " <hr>"
   ]
  },
  {
   "cell_type": "markdown",
   "metadata": {},
   "source": [
    "<h1>Table of Contents</h1>\n",
    "<div class=\"alert alert-block alert-info\" style=\"margin-top: 20px\">\n",
    "    <ul>\n",
    "        <li>\n",
    "            <a href=\"#Foreword\">1. Foreword</a>    \n",
    "        </li>\n",
    "        <br>\n",
    "        <li>\n",
    "            <a href=\"#CRISP-DM\">2. CRISP-DM</a>    \n",
    "        </li>\n",
    "        <br>\n",
    "        <li>\n",
    "            <a href=\"#step1\">3. CRISP-DM STEP-1: Business Understanding</a>    \n",
    "        </li>\n",
    "        <br>\n",
    "        <li>\n",
    "            <a href=\"#step2\">4.CRISP-DM STEP-2: Data Understanding</a>\n",
    "            <ul>\n",
    "                <li><a href=\"#step21\">4.1. Examine Data as Data Scientist</a></li>\n",
    "                <li><a href=\"#step22\">4.2. Examine Data as Mineral Processing Engineer</a></li>\n",
    "            </ul>\n",
    "        </li>\n",
    "        <br>\n",
    "        <li>\n",
    "            <a href=\"#step3\">5. CRISP-DM STEP-3: DATA PREPARATION</a> \n",
    "            <ul>\n",
    "                <li><a href=\"#step31\">5.1. Grouping Rows with Hourly Frequency</a></li>\n",
    "                <li><a href=\"#step32\">5.2. Divide Data</a></li>\n",
    "            </ul>\n",
    "        </li>\n",
    "        <br>\n",
    "        <li>\n",
    "            <a href=\"#step4\">6. CRISP-DM STEP-4: MODELING</a> \n",
    "             <ul>\n",
    "                <li><a href=\"#step41\">6.1. P-Value</a></li>\n",
    "                <li><a href=\"#step42\">6.2. Confidence Interval</a></li>\n",
    "            </ul>\n",
    "        </li>\n",
    "        <br>\n",
    "        <li>\n",
    "            <a href=\"#step5\">7. CRISP-DM STEP-5: Evaluation</a>\n",
    "            <ul>\n",
    "                <li><a href=\"#step51\">7.1. R-squared in Regression Analysis</a></li>\n",
    "                <li><a href=\"#step52\">7.2. Multi Linear Regression Analysis</a></li>\n",
    "                <li><a href=\"#step53\">7.3. Random Forest Regressor</a></li>\n",
    "            </ul>\n",
    "        </li>\n",
    "        <br>\n",
    "        <li>\n",
    "            <a href=\"#step6\">8. CRISP-DM STEP-6: Deployment</a>   \n",
    "            <ul>\n",
    "                <li><a href=\"#step61\">8.1. First Predictions</a></li>\n",
    "                <li><a href=\"#step62\">8.2. Second Predictions</a></li>\n",
    "            </ul>\n",
    "        </li>\n",
    "        <br>\n",
    "        <li>\n",
    "            <a href=\"#conc\">9. Conclusion</a>    \n",
    "        </li>\n",
    "    </ul>\n",
    "</div>"
   ]
  },
  {
   "cell_type": "markdown",
   "metadata": {},
   "source": [
    "<hr style=\"border: none; border-bottom: 2px solid lightblue;\">\n",
    "\n",
    "\n",
    "\n",
    "<h1><a id=\"Foreword\">1. FOREWORD</a></h1>\n",
    "\n",
    "<h4>Plants controlled by Artificial Intelligence (AI) are no far away. In this report, you will find the Machine\n",
    "learning application and concentrate predictions made with the developed model on data from a\n",
    "Flotation Plant.\n",
    "\n",
    "After completing Data Science trainings and readings, I started searching for data and finally came\n",
    "across the data shared by <a href=\"https://www.kaggle.com/edumagalhaes\">Eduardo Magalhães Oliveira</a> on Kaggle.com. I would like to thank him a lot.\n",
    "\n",
    "<h3><p style=\"text-align:center;\"><a href=\"https://www.kaggle.com/edumagalhaes/quality-prediction-in-a-mining-process\">Source Data Address</a></p></h3>\n"
   ]
  },
  {
   "cell_type": "markdown",
   "metadata": {},
   "source": [
    "\n",
    "\n",
    "<h3><p style=\"text-align:center;\"><a href=\"https://drive.google.com/drive/folders/1zzFZ-U6jEJsVswwEqzv7IIIH8tQYg1u0\">Detailed Report Address</a></p></h3>"
   ]
  },
  {
   "cell_type": "markdown",
   "metadata": {},
   "source": [
    "<hr style=\"border: none; border-bottom: 2px solid lightblue;\">\n",
    "<h1><a id=\"CRISP-DM\">2. CRISP-DM </a></h1>\n"
   ]
  },
  {
   "cell_type": "markdown",
   "metadata": {},
   "source": [
    "<h2><p style=\"text-align:center;\"><a href=\"https://en.wikipedia.org/wiki/Cross-industry_standard_process_for_data_mining\">Definition</a></p></h2>\n",
    "\n",
    "\n",
    "<img src=\"crispdm.png\" width=\"500\" height=\"500\">\n",
    "\n",
    "\n",
    "\n",
    "<h3><b><p style=\"text-align:center;\">I will do the project over the CRISP-DM cycle.</b></h3>\n",
    "\n"
   ]
  },
  {
   "cell_type": "markdown",
   "metadata": {},
   "source": [
    "<hr style=\"border: none; border-bottom: 2px solid lightblue;\">\n",
    "<h1><a id=\"step1\">3. CRISP-DM STEP-1: BUSINESS UNDERSTANDING</a></h1>"
   ]
  },
  {
   "cell_type": "markdown",
   "metadata": {},
   "source": [
    "<h4>We cannot use the Mineral or Element in the ore extracted from the earth directly in industry. We\n",
    "have to carry out an enrichment operation beforehand. The data we obtained was taken from a\n",
    "Flotation Plant, method is Reverse Cationic Flotation </h4>\n",
    "<br>\n",
    "<h3><p style=\"text-align:center;\"><a href=\" https://en.wikipedia.org/wiki/Froth_flotation\">Froth Flotation</a></p></h3>\n",
    "<h3><p style=\"text-align:center;\"><a href=\" https://iopscience.iop.org/article/10.1088/1742-6596/879/1/012016/pdf\">Reverse Cationic Flotation</a></p></h3>\n",
    "\n"
   ]
  },
  {
   "cell_type": "markdown",
   "metadata": {},
   "source": [
    "<hr style=\"border: none; border-bottom: 2px solid lightblue;\">\n",
    "<h1><a id=\"step2\">4.CRISP-DM STEP-2: DATA UNDERSTANDING</a></h1>\n"
   ]
  },
  {
   "cell_type": "markdown",
   "metadata": {},
   "source": [
    "\n",
    "<h3><a id=\"step21\">4.1. Examine Data as Data Scientist</a></h3>"
   ]
  },
  {
   "cell_type": "code",
   "execution_count": 29,
   "metadata": {},
   "outputs": [],
   "source": [
    "#Library Imports\n",
    "\n",
    "import pandas as pd \n",
    "import numpy as np\n",
    "import seaborn as sns\n",
    "import matplotlib.pyplot as plt\n",
    "from matplotlib.pyplot import figure\n",
    "from sklearn.model_selection import train_test_split\n",
    "from sklearn.preprocessing import StandardScaler\n",
    "from sklearn.linear_model import LinearRegression\n",
    "from sklearn.ensemble import RandomForestRegressor \n",
    "import statsmodels.api as sm \n",
    "from sklearn.metrics import r2_score\n",
    "from pylab import *"
   ]
  },
  {
   "cell_type": "code",
   "execution_count": 2,
   "metadata": {},
   "outputs": [
    {
     "name": "stdout",
     "output_type": "stream",
     "text": [
      "Shape of Main Data =  (737453, 24)\n",
      "Shape of Main Data after drop null values =  (737453, 24)\n"
     ]
    }
   ],
   "source": [
    "#Upload Data \n",
    "url = 'D:/kaggle flotasyon projesı/MiningProcess_Flotation_Plant_Database.csv'\n",
    "mainData = pd.read_csv(url,decimal=',')\n",
    "\n",
    " \n",
    "print('Shape of Main Data = ', mainData.shape)\n",
    "mainData = mainData.dropna()\n",
    "print('Shape of Main Data after drop null values = ', mainData.shape)\n"
   ]
  },
  {
   "cell_type": "markdown",
   "metadata": {},
   "source": [
    "<h4>Data consists of 24 columns and 737453 rows, covers the dates between March 2017 and\n",
    "September 2017 and some of the data were recorded at 10-second intervals and some at 1-hour\n",
    "intervals.</h4> \n"
   ]
  },
  {
   "cell_type": "code",
   "execution_count": 23,
   "metadata": {
    "scrolled": false
   },
   "outputs": [
    {
     "data": {
      "text/html": [
       "<div>\n",
       "<style scoped>\n",
       "    .dataframe tbody tr th:only-of-type {\n",
       "        vertical-align: middle;\n",
       "    }\n",
       "\n",
       "    .dataframe tbody tr th {\n",
       "        vertical-align: top;\n",
       "    }\n",
       "\n",
       "    .dataframe thead th {\n",
       "        text-align: right;\n",
       "    }\n",
       "</style>\n",
       "<table border=\"1\" class=\"dataframe\">\n",
       "  <thead>\n",
       "    <tr style=\"text-align: right;\">\n",
       "      <th></th>\n",
       "      <th>date</th>\n",
       "      <th>% Iron Feed</th>\n",
       "      <th>% Silica Feed</th>\n",
       "      <th>Starch Flow</th>\n",
       "      <th>Amina Flow</th>\n",
       "      <th>Ore Pulp Flow</th>\n",
       "      <th>Ore Pulp pH</th>\n",
       "      <th>Ore Pulp Density</th>\n",
       "      <th>Flotation Column 01 Air Flow</th>\n",
       "      <th>Flotation Column 02 Air Flow</th>\n",
       "      <th>...</th>\n",
       "      <th>Flotation Column 07 Air Flow</th>\n",
       "      <th>Flotation Column 01 Level</th>\n",
       "      <th>Flotation Column 02 Level</th>\n",
       "      <th>Flotation Column 03 Level</th>\n",
       "      <th>Flotation Column 04 Level</th>\n",
       "      <th>Flotation Column 05 Level</th>\n",
       "      <th>Flotation Column 06 Level</th>\n",
       "      <th>Flotation Column 07 Level</th>\n",
       "      <th>% Iron Concentrate</th>\n",
       "      <th>% Silica Concentrate</th>\n",
       "    </tr>\n",
       "  </thead>\n",
       "  <tbody>\n",
       "    <tr>\n",
       "      <th>0</th>\n",
       "      <td>2017-03-10 01:00:00</td>\n",
       "      <td>55.2</td>\n",
       "      <td>16.98</td>\n",
       "      <td>3019.53</td>\n",
       "      <td>557.434</td>\n",
       "      <td>395.713</td>\n",
       "      <td>10.0664</td>\n",
       "      <td>1.74</td>\n",
       "      <td>249.214</td>\n",
       "      <td>253.235</td>\n",
       "      <td>...</td>\n",
       "      <td>250.884</td>\n",
       "      <td>457.396</td>\n",
       "      <td>432.962</td>\n",
       "      <td>424.954</td>\n",
       "      <td>443.558</td>\n",
       "      <td>502.255</td>\n",
       "      <td>446.370</td>\n",
       "      <td>523.344</td>\n",
       "      <td>66.91</td>\n",
       "      <td>1.31</td>\n",
       "    </tr>\n",
       "    <tr>\n",
       "      <th>1</th>\n",
       "      <td>2017-03-10 01:00:00</td>\n",
       "      <td>55.2</td>\n",
       "      <td>16.98</td>\n",
       "      <td>3024.41</td>\n",
       "      <td>563.965</td>\n",
       "      <td>397.383</td>\n",
       "      <td>10.0672</td>\n",
       "      <td>1.74</td>\n",
       "      <td>249.719</td>\n",
       "      <td>250.532</td>\n",
       "      <td>...</td>\n",
       "      <td>248.994</td>\n",
       "      <td>451.891</td>\n",
       "      <td>429.560</td>\n",
       "      <td>432.939</td>\n",
       "      <td>448.086</td>\n",
       "      <td>496.363</td>\n",
       "      <td>445.922</td>\n",
       "      <td>498.075</td>\n",
       "      <td>66.91</td>\n",
       "      <td>1.31</td>\n",
       "    </tr>\n",
       "    <tr>\n",
       "      <th>2</th>\n",
       "      <td>2017-03-10 01:00:00</td>\n",
       "      <td>55.2</td>\n",
       "      <td>16.98</td>\n",
       "      <td>3043.46</td>\n",
       "      <td>568.054</td>\n",
       "      <td>399.668</td>\n",
       "      <td>10.0680</td>\n",
       "      <td>1.74</td>\n",
       "      <td>249.741</td>\n",
       "      <td>247.874</td>\n",
       "      <td>...</td>\n",
       "      <td>248.071</td>\n",
       "      <td>451.240</td>\n",
       "      <td>468.927</td>\n",
       "      <td>434.610</td>\n",
       "      <td>449.688</td>\n",
       "      <td>484.411</td>\n",
       "      <td>447.826</td>\n",
       "      <td>458.567</td>\n",
       "      <td>66.91</td>\n",
       "      <td>1.31</td>\n",
       "    </tr>\n",
       "    <tr>\n",
       "      <th>3</th>\n",
       "      <td>2017-03-10 01:00:00</td>\n",
       "      <td>55.2</td>\n",
       "      <td>16.98</td>\n",
       "      <td>3047.36</td>\n",
       "      <td>568.665</td>\n",
       "      <td>397.939</td>\n",
       "      <td>10.0689</td>\n",
       "      <td>1.74</td>\n",
       "      <td>249.917</td>\n",
       "      <td>254.487</td>\n",
       "      <td>...</td>\n",
       "      <td>251.147</td>\n",
       "      <td>452.441</td>\n",
       "      <td>458.165</td>\n",
       "      <td>442.865</td>\n",
       "      <td>446.210</td>\n",
       "      <td>471.411</td>\n",
       "      <td>437.690</td>\n",
       "      <td>427.669</td>\n",
       "      <td>66.91</td>\n",
       "      <td>1.31</td>\n",
       "    </tr>\n",
       "    <tr>\n",
       "      <th>4</th>\n",
       "      <td>2017-03-10 01:00:00</td>\n",
       "      <td>55.2</td>\n",
       "      <td>16.98</td>\n",
       "      <td>3033.69</td>\n",
       "      <td>558.167</td>\n",
       "      <td>400.254</td>\n",
       "      <td>10.0697</td>\n",
       "      <td>1.74</td>\n",
       "      <td>250.203</td>\n",
       "      <td>252.136</td>\n",
       "      <td>...</td>\n",
       "      <td>248.928</td>\n",
       "      <td>452.441</td>\n",
       "      <td>452.900</td>\n",
       "      <td>450.523</td>\n",
       "      <td>453.670</td>\n",
       "      <td>462.598</td>\n",
       "      <td>443.682</td>\n",
       "      <td>425.679</td>\n",
       "      <td>66.91</td>\n",
       "      <td>1.31</td>\n",
       "    </tr>\n",
       "    <tr>\n",
       "      <th>5</th>\n",
       "      <td>2017-03-10 01:00:00</td>\n",
       "      <td>55.2</td>\n",
       "      <td>16.98</td>\n",
       "      <td>3079.10</td>\n",
       "      <td>564.697</td>\n",
       "      <td>396.533</td>\n",
       "      <td>10.0705</td>\n",
       "      <td>1.74</td>\n",
       "      <td>250.730</td>\n",
       "      <td>248.906</td>\n",
       "      <td>...</td>\n",
       "      <td>251.873</td>\n",
       "      <td>444.384</td>\n",
       "      <td>443.269</td>\n",
       "      <td>460.449</td>\n",
       "      <td>439.920</td>\n",
       "      <td>451.588</td>\n",
       "      <td>433.539</td>\n",
       "      <td>425.458</td>\n",
       "      <td>66.91</td>\n",
       "      <td>1.31</td>\n",
       "    </tr>\n",
       "    <tr>\n",
       "      <th>6</th>\n",
       "      <td>2017-03-10 01:00:00</td>\n",
       "      <td>55.2</td>\n",
       "      <td>16.98</td>\n",
       "      <td>3127.79</td>\n",
       "      <td>566.467</td>\n",
       "      <td>392.900</td>\n",
       "      <td>10.0713</td>\n",
       "      <td>1.74</td>\n",
       "      <td>250.313</td>\n",
       "      <td>252.202</td>\n",
       "      <td>...</td>\n",
       "      <td>253.477</td>\n",
       "      <td>446.185</td>\n",
       "      <td>444.571</td>\n",
       "      <td>452.306</td>\n",
       "      <td>431.328</td>\n",
       "      <td>443.548</td>\n",
       "      <td>444.575</td>\n",
       "      <td>431.251</td>\n",
       "      <td>66.91</td>\n",
       "      <td>1.31</td>\n",
       "    </tr>\n",
       "    <tr>\n",
       "      <th>7</th>\n",
       "      <td>2017-03-10 01:00:00</td>\n",
       "      <td>55.2</td>\n",
       "      <td>16.98</td>\n",
       "      <td>3152.93</td>\n",
       "      <td>558.777</td>\n",
       "      <td>397.002</td>\n",
       "      <td>10.0722</td>\n",
       "      <td>1.74</td>\n",
       "      <td>249.895</td>\n",
       "      <td>253.630</td>\n",
       "      <td>...</td>\n",
       "      <td>253.345</td>\n",
       "      <td>445.985</td>\n",
       "      <td>461.341</td>\n",
       "      <td>461.640</td>\n",
       "      <td>442.067</td>\n",
       "      <td>441.730</td>\n",
       "      <td>461.770</td>\n",
       "      <td>449.679</td>\n",
       "      <td>66.91</td>\n",
       "      <td>1.31</td>\n",
       "    </tr>\n",
       "    <tr>\n",
       "      <th>8</th>\n",
       "      <td>2017-03-10 01:00:00</td>\n",
       "      <td>55.2</td>\n",
       "      <td>16.98</td>\n",
       "      <td>3147.27</td>\n",
       "      <td>556.030</td>\n",
       "      <td>394.307</td>\n",
       "      <td>10.0730</td>\n",
       "      <td>1.74</td>\n",
       "      <td>250.137</td>\n",
       "      <td>251.104</td>\n",
       "      <td>...</td>\n",
       "      <td>250.884</td>\n",
       "      <td>446.686</td>\n",
       "      <td>478.385</td>\n",
       "      <td>459.103</td>\n",
       "      <td>455.074</td>\n",
       "      <td>439.798</td>\n",
       "      <td>457.738</td>\n",
       "      <td>455.915</td>\n",
       "      <td>66.91</td>\n",
       "      <td>1.31</td>\n",
       "    </tr>\n",
       "    <tr>\n",
       "      <th>9</th>\n",
       "      <td>2017-03-10 01:00:00</td>\n",
       "      <td>55.2</td>\n",
       "      <td>16.98</td>\n",
       "      <td>3142.58</td>\n",
       "      <td>565.857</td>\n",
       "      <td>393.105</td>\n",
       "      <td>10.0738</td>\n",
       "      <td>1.74</td>\n",
       "      <td>249.653</td>\n",
       "      <td>252.202</td>\n",
       "      <td>...</td>\n",
       "      <td>248.137</td>\n",
       "      <td>445.685</td>\n",
       "      <td>478.779</td>\n",
       "      <td>460.665</td>\n",
       "      <td>457.225</td>\n",
       "      <td>453.236</td>\n",
       "      <td>449.898</td>\n",
       "      <td>455.750</td>\n",
       "      <td>66.91</td>\n",
       "      <td>1.31</td>\n",
       "    </tr>\n",
       "  </tbody>\n",
       "</table>\n",
       "<p>10 rows × 24 columns</p>\n",
       "</div>"
      ],
      "text/plain": [
       "                 date  % Iron Feed  % Silica Feed  Starch Flow  Amina Flow  \\\n",
       "0 2017-03-10 01:00:00         55.2          16.98      3019.53     557.434   \n",
       "1 2017-03-10 01:00:00         55.2          16.98      3024.41     563.965   \n",
       "2 2017-03-10 01:00:00         55.2          16.98      3043.46     568.054   \n",
       "3 2017-03-10 01:00:00         55.2          16.98      3047.36     568.665   \n",
       "4 2017-03-10 01:00:00         55.2          16.98      3033.69     558.167   \n",
       "5 2017-03-10 01:00:00         55.2          16.98      3079.10     564.697   \n",
       "6 2017-03-10 01:00:00         55.2          16.98      3127.79     566.467   \n",
       "7 2017-03-10 01:00:00         55.2          16.98      3152.93     558.777   \n",
       "8 2017-03-10 01:00:00         55.2          16.98      3147.27     556.030   \n",
       "9 2017-03-10 01:00:00         55.2          16.98      3142.58     565.857   \n",
       "\n",
       "   Ore Pulp Flow  Ore Pulp pH  Ore Pulp Density  Flotation Column 01 Air Flow  \\\n",
       "0        395.713      10.0664              1.74                       249.214   \n",
       "1        397.383      10.0672              1.74                       249.719   \n",
       "2        399.668      10.0680              1.74                       249.741   \n",
       "3        397.939      10.0689              1.74                       249.917   \n",
       "4        400.254      10.0697              1.74                       250.203   \n",
       "5        396.533      10.0705              1.74                       250.730   \n",
       "6        392.900      10.0713              1.74                       250.313   \n",
       "7        397.002      10.0722              1.74                       249.895   \n",
       "8        394.307      10.0730              1.74                       250.137   \n",
       "9        393.105      10.0738              1.74                       249.653   \n",
       "\n",
       "   Flotation Column 02 Air Flow  ...  Flotation Column 07 Air Flow  \\\n",
       "0                       253.235  ...                       250.884   \n",
       "1                       250.532  ...                       248.994   \n",
       "2                       247.874  ...                       248.071   \n",
       "3                       254.487  ...                       251.147   \n",
       "4                       252.136  ...                       248.928   \n",
       "5                       248.906  ...                       251.873   \n",
       "6                       252.202  ...                       253.477   \n",
       "7                       253.630  ...                       253.345   \n",
       "8                       251.104  ...                       250.884   \n",
       "9                       252.202  ...                       248.137   \n",
       "\n",
       "   Flotation Column 01 Level  Flotation Column 02 Level  \\\n",
       "0                    457.396                    432.962   \n",
       "1                    451.891                    429.560   \n",
       "2                    451.240                    468.927   \n",
       "3                    452.441                    458.165   \n",
       "4                    452.441                    452.900   \n",
       "5                    444.384                    443.269   \n",
       "6                    446.185                    444.571   \n",
       "7                    445.985                    461.341   \n",
       "8                    446.686                    478.385   \n",
       "9                    445.685                    478.779   \n",
       "\n",
       "   Flotation Column 03 Level  Flotation Column 04 Level  \\\n",
       "0                    424.954                    443.558   \n",
       "1                    432.939                    448.086   \n",
       "2                    434.610                    449.688   \n",
       "3                    442.865                    446.210   \n",
       "4                    450.523                    453.670   \n",
       "5                    460.449                    439.920   \n",
       "6                    452.306                    431.328   \n",
       "7                    461.640                    442.067   \n",
       "8                    459.103                    455.074   \n",
       "9                    460.665                    457.225   \n",
       "\n",
       "   Flotation Column 05 Level  Flotation Column 06 Level  \\\n",
       "0                    502.255                    446.370   \n",
       "1                    496.363                    445.922   \n",
       "2                    484.411                    447.826   \n",
       "3                    471.411                    437.690   \n",
       "4                    462.598                    443.682   \n",
       "5                    451.588                    433.539   \n",
       "6                    443.548                    444.575   \n",
       "7                    441.730                    461.770   \n",
       "8                    439.798                    457.738   \n",
       "9                    453.236                    449.898   \n",
       "\n",
       "   Flotation Column 07 Level  % Iron Concentrate  % Silica Concentrate  \n",
       "0                    523.344               66.91                  1.31  \n",
       "1                    498.075               66.91                  1.31  \n",
       "2                    458.567               66.91                  1.31  \n",
       "3                    427.669               66.91                  1.31  \n",
       "4                    425.679               66.91                  1.31  \n",
       "5                    425.458               66.91                  1.31  \n",
       "6                    431.251               66.91                  1.31  \n",
       "7                    449.679               66.91                  1.31  \n",
       "8                    455.915               66.91                  1.31  \n",
       "9                    455.750               66.91                  1.31  \n",
       "\n",
       "[10 rows x 24 columns]"
      ]
     },
     "execution_count": 23,
     "metadata": {},
     "output_type": "execute_result"
    }
   ],
   "source": [
    "mainData.head(10)"
   ]
  },
  {
   "cell_type": "code",
   "execution_count": 4,
   "metadata": {},
   "outputs": [
    {
     "data": {
      "text/plain": [
       "Index(['date', '% Iron Feed', '% Silica Feed', 'Starch Flow', 'Amina Flow',\n",
       "       'Ore Pulp Flow', 'Ore Pulp pH', 'Ore Pulp Density',\n",
       "       'Flotation Column 01 Air Flow', 'Flotation Column 02 Air Flow',\n",
       "       'Flotation Column 03 Air Flow', 'Flotation Column 04 Air Flow',\n",
       "       'Flotation Column 05 Air Flow', 'Flotation Column 06 Air Flow',\n",
       "       'Flotation Column 07 Air Flow', 'Flotation Column 01 Level',\n",
       "       'Flotation Column 02 Level', 'Flotation Column 03 Level',\n",
       "       'Flotation Column 04 Level', 'Flotation Column 05 Level',\n",
       "       'Flotation Column 06 Level', 'Flotation Column 07 Level',\n",
       "       '% Iron Concentrate', '% Silica Concentrate'],\n",
       "      dtype='object')"
      ]
     },
     "execution_count": 4,
     "metadata": {},
     "output_type": "execute_result"
    }
   ],
   "source": [
    "mainData.columns"
   ]
  },
  {
   "cell_type": "code",
   "execution_count": 5,
   "metadata": {},
   "outputs": [
    {
     "data": {
      "text/plain": [
       "date                             object\n",
       "% Iron Feed                     float64\n",
       "% Silica Feed                   float64\n",
       "Starch Flow                     float64\n",
       "Amina Flow                      float64\n",
       "Ore Pulp Flow                   float64\n",
       "Ore Pulp pH                     float64\n",
       "Ore Pulp Density                float64\n",
       "Flotation Column 01 Air Flow    float64\n",
       "Flotation Column 02 Air Flow    float64\n",
       "Flotation Column 03 Air Flow    float64\n",
       "Flotation Column 04 Air Flow    float64\n",
       "Flotation Column 05 Air Flow    float64\n",
       "Flotation Column 06 Air Flow    float64\n",
       "Flotation Column 07 Air Flow    float64\n",
       "Flotation Column 01 Level       float64\n",
       "Flotation Column 02 Level       float64\n",
       "Flotation Column 03 Level       float64\n",
       "Flotation Column 04 Level       float64\n",
       "Flotation Column 05 Level       float64\n",
       "Flotation Column 06 Level       float64\n",
       "Flotation Column 07 Level       float64\n",
       "% Iron Concentrate              float64\n",
       "% Silica Concentrate            float64\n",
       "dtype: object"
      ]
     },
     "execution_count": 5,
     "metadata": {},
     "output_type": "execute_result"
    }
   ],
   "source": [
    "mainData.dtypes"
   ]
  },
  {
   "cell_type": "markdown",
   "metadata": {},
   "source": [
    "<h4>In order to perform mathematical calculations on data, the data must be in \"int\" or \"float\"\n",
    "format. The data type of columns containing numbers is \"float64\", sufficient for calculation.\n",
    "Date column is in \"object\" data type, we will need to change the unit before calculations. \n",
    "\n",
    "Column Definitions: \n",
    "\n",
    "- Date: Date collection date and time.\n",
    "- % Iron Feed: Feed grade of iron-containing ore.\n",
    "- % Silica Feed: Feed grade of silica-containing ore..\n",
    "- Starch Flow: Depressant chemical for Iron(Fe) containing ore.\n",
    "- Amina Flow: Collector chemical for Silica containing ore.\n",
    "- Ore Pulp Flow: The amount of pulp flow fed to the Flotation Columns as the\n",
    "product of the previous process step.\n",
    "- Ore Pulp pH: pH.\n",
    "- Ore Pulp Density: The solid percent of ore fed to Flotation Columns.\n",
    "- Flotation Column 01,02,03,04,05,06,07 Air Flow: The amount of air fed to the\n",
    "Flotations Columns to frothing.\n",
    "- Flotation Column 01,02,03,04,05,06,07 Level: Showing float thickness of Flotation\n",
    "Columns.\n",
    "- % Iron Concentrate: Concentrate grade of iron-containing ore.\n",
    "- % Silica Concentrate: Concentrate grade of silica-containing ore"
   ]
  },
  {
   "cell_type": "code",
   "execution_count": 6,
   "metadata": {},
   "outputs": [
    {
     "data": {
      "text/html": [
       "<div>\n",
       "<style scoped>\n",
       "    .dataframe tbody tr th:only-of-type {\n",
       "        vertical-align: middle;\n",
       "    }\n",
       "\n",
       "    .dataframe tbody tr th {\n",
       "        vertical-align: top;\n",
       "    }\n",
       "\n",
       "    .dataframe thead th {\n",
       "        text-align: right;\n",
       "    }\n",
       "</style>\n",
       "<table border=\"1\" class=\"dataframe\">\n",
       "  <thead>\n",
       "    <tr style=\"text-align: right;\">\n",
       "      <th></th>\n",
       "      <th>% Iron Feed</th>\n",
       "      <th>% Silica Feed</th>\n",
       "      <th>Starch Flow</th>\n",
       "      <th>Amina Flow</th>\n",
       "      <th>Ore Pulp Flow</th>\n",
       "      <th>Ore Pulp pH</th>\n",
       "      <th>Ore Pulp Density</th>\n",
       "      <th>Flotation Column 01 Air Flow</th>\n",
       "      <th>Flotation Column 02 Air Flow</th>\n",
       "      <th>Flotation Column 03 Air Flow</th>\n",
       "      <th>...</th>\n",
       "      <th>Flotation Column 07 Air Flow</th>\n",
       "      <th>Flotation Column 01 Level</th>\n",
       "      <th>Flotation Column 02 Level</th>\n",
       "      <th>Flotation Column 03 Level</th>\n",
       "      <th>Flotation Column 04 Level</th>\n",
       "      <th>Flotation Column 05 Level</th>\n",
       "      <th>Flotation Column 06 Level</th>\n",
       "      <th>Flotation Column 07 Level</th>\n",
       "      <th>% Iron Concentrate</th>\n",
       "      <th>% Silica Concentrate</th>\n",
       "    </tr>\n",
       "  </thead>\n",
       "  <tbody>\n",
       "    <tr>\n",
       "      <th>count</th>\n",
       "      <td>737453.000000</td>\n",
       "      <td>737453.000000</td>\n",
       "      <td>737453.000000</td>\n",
       "      <td>737453.000000</td>\n",
       "      <td>737453.000000</td>\n",
       "      <td>737453.000000</td>\n",
       "      <td>737453.000000</td>\n",
       "      <td>737453.000000</td>\n",
       "      <td>737453.000000</td>\n",
       "      <td>737453.000000</td>\n",
       "      <td>...</td>\n",
       "      <td>737453.000000</td>\n",
       "      <td>737453.000000</td>\n",
       "      <td>737453.000000</td>\n",
       "      <td>737453.000000</td>\n",
       "      <td>737453.000000</td>\n",
       "      <td>737453.000000</td>\n",
       "      <td>737453.000000</td>\n",
       "      <td>737453.000000</td>\n",
       "      <td>737453.000000</td>\n",
       "      <td>737453.000000</td>\n",
       "    </tr>\n",
       "    <tr>\n",
       "      <th>mean</th>\n",
       "      <td>56.294739</td>\n",
       "      <td>14.651716</td>\n",
       "      <td>2869.140569</td>\n",
       "      <td>488.144697</td>\n",
       "      <td>397.578372</td>\n",
       "      <td>9.767639</td>\n",
       "      <td>1.680380</td>\n",
       "      <td>280.151856</td>\n",
       "      <td>277.159965</td>\n",
       "      <td>281.082397</td>\n",
       "      <td>...</td>\n",
       "      <td>290.754856</td>\n",
       "      <td>520.244823</td>\n",
       "      <td>522.649555</td>\n",
       "      <td>531.352662</td>\n",
       "      <td>420.320973</td>\n",
       "      <td>425.251706</td>\n",
       "      <td>429.941018</td>\n",
       "      <td>421.021231</td>\n",
       "      <td>65.050068</td>\n",
       "      <td>2.326763</td>\n",
       "    </tr>\n",
       "    <tr>\n",
       "      <th>std</th>\n",
       "      <td>5.157744</td>\n",
       "      <td>6.807439</td>\n",
       "      <td>1215.203734</td>\n",
       "      <td>91.230534</td>\n",
       "      <td>9.699785</td>\n",
       "      <td>0.387007</td>\n",
       "      <td>0.069249</td>\n",
       "      <td>29.621288</td>\n",
       "      <td>30.149357</td>\n",
       "      <td>28.558268</td>\n",
       "      <td>...</td>\n",
       "      <td>28.670105</td>\n",
       "      <td>131.014924</td>\n",
       "      <td>128.165050</td>\n",
       "      <td>150.842164</td>\n",
       "      <td>91.794432</td>\n",
       "      <td>84.535822</td>\n",
       "      <td>89.862225</td>\n",
       "      <td>84.891491</td>\n",
       "      <td>1.118645</td>\n",
       "      <td>1.125554</td>\n",
       "    </tr>\n",
       "    <tr>\n",
       "      <th>min</th>\n",
       "      <td>42.740000</td>\n",
       "      <td>1.310000</td>\n",
       "      <td>0.002026</td>\n",
       "      <td>241.669000</td>\n",
       "      <td>376.249000</td>\n",
       "      <td>8.753340</td>\n",
       "      <td>1.519820</td>\n",
       "      <td>175.510000</td>\n",
       "      <td>175.156000</td>\n",
       "      <td>176.469000</td>\n",
       "      <td>...</td>\n",
       "      <td>185.962000</td>\n",
       "      <td>149.218000</td>\n",
       "      <td>210.752000</td>\n",
       "      <td>126.255000</td>\n",
       "      <td>162.201000</td>\n",
       "      <td>166.991000</td>\n",
       "      <td>155.841000</td>\n",
       "      <td>175.349000</td>\n",
       "      <td>62.050000</td>\n",
       "      <td>0.600000</td>\n",
       "    </tr>\n",
       "    <tr>\n",
       "      <th>25%</th>\n",
       "      <td>52.670000</td>\n",
       "      <td>8.940000</td>\n",
       "      <td>2076.320000</td>\n",
       "      <td>431.796000</td>\n",
       "      <td>394.264000</td>\n",
       "      <td>9.527360</td>\n",
       "      <td>1.647310</td>\n",
       "      <td>250.281000</td>\n",
       "      <td>250.457000</td>\n",
       "      <td>250.855000</td>\n",
       "      <td>...</td>\n",
       "      <td>256.302000</td>\n",
       "      <td>416.978000</td>\n",
       "      <td>441.883000</td>\n",
       "      <td>411.325000</td>\n",
       "      <td>356.679000</td>\n",
       "      <td>357.653000</td>\n",
       "      <td>358.497000</td>\n",
       "      <td>356.772000</td>\n",
       "      <td>64.370000</td>\n",
       "      <td>1.440000</td>\n",
       "    </tr>\n",
       "    <tr>\n",
       "      <th>50%</th>\n",
       "      <td>56.080000</td>\n",
       "      <td>13.850000</td>\n",
       "      <td>3018.430000</td>\n",
       "      <td>504.393000</td>\n",
       "      <td>399.249000</td>\n",
       "      <td>9.798100</td>\n",
       "      <td>1.697600</td>\n",
       "      <td>299.344000</td>\n",
       "      <td>296.223000</td>\n",
       "      <td>298.696000</td>\n",
       "      <td>...</td>\n",
       "      <td>299.011000</td>\n",
       "      <td>491.878000</td>\n",
       "      <td>495.956000</td>\n",
       "      <td>494.318000</td>\n",
       "      <td>411.974000</td>\n",
       "      <td>408.773000</td>\n",
       "      <td>424.664575</td>\n",
       "      <td>411.065000</td>\n",
       "      <td>65.210000</td>\n",
       "      <td>2.000000</td>\n",
       "    </tr>\n",
       "    <tr>\n",
       "      <th>75%</th>\n",
       "      <td>59.720000</td>\n",
       "      <td>19.600000</td>\n",
       "      <td>3727.730000</td>\n",
       "      <td>553.257000</td>\n",
       "      <td>402.968000</td>\n",
       "      <td>10.038000</td>\n",
       "      <td>1.728330</td>\n",
       "      <td>300.149000</td>\n",
       "      <td>300.690000</td>\n",
       "      <td>300.382000</td>\n",
       "      <td>...</td>\n",
       "      <td>301.904000</td>\n",
       "      <td>594.114000</td>\n",
       "      <td>595.464000</td>\n",
       "      <td>601.249000</td>\n",
       "      <td>485.549000</td>\n",
       "      <td>484.329000</td>\n",
       "      <td>492.684000</td>\n",
       "      <td>476.465000</td>\n",
       "      <td>65.860000</td>\n",
       "      <td>3.010000</td>\n",
       "    </tr>\n",
       "    <tr>\n",
       "      <th>max</th>\n",
       "      <td>65.780000</td>\n",
       "      <td>33.400000</td>\n",
       "      <td>6300.230000</td>\n",
       "      <td>739.538000</td>\n",
       "      <td>418.641000</td>\n",
       "      <td>10.808100</td>\n",
       "      <td>1.853250</td>\n",
       "      <td>373.871000</td>\n",
       "      <td>375.992000</td>\n",
       "      <td>364.346000</td>\n",
       "      <td>...</td>\n",
       "      <td>371.593000</td>\n",
       "      <td>862.274000</td>\n",
       "      <td>828.919000</td>\n",
       "      <td>886.822000</td>\n",
       "      <td>680.359000</td>\n",
       "      <td>675.644000</td>\n",
       "      <td>698.861000</td>\n",
       "      <td>659.902000</td>\n",
       "      <td>68.010000</td>\n",
       "      <td>5.530000</td>\n",
       "    </tr>\n",
       "  </tbody>\n",
       "</table>\n",
       "<p>8 rows × 23 columns</p>\n",
       "</div>"
      ],
      "text/plain": [
       "         % Iron Feed  % Silica Feed    Starch Flow     Amina Flow  \\\n",
       "count  737453.000000  737453.000000  737453.000000  737453.000000   \n",
       "mean       56.294739      14.651716    2869.140569     488.144697   \n",
       "std         5.157744       6.807439    1215.203734      91.230534   \n",
       "min        42.740000       1.310000       0.002026     241.669000   \n",
       "25%        52.670000       8.940000    2076.320000     431.796000   \n",
       "50%        56.080000      13.850000    3018.430000     504.393000   \n",
       "75%        59.720000      19.600000    3727.730000     553.257000   \n",
       "max        65.780000      33.400000    6300.230000     739.538000   \n",
       "\n",
       "       Ore Pulp Flow    Ore Pulp pH  Ore Pulp Density  \\\n",
       "count  737453.000000  737453.000000     737453.000000   \n",
       "mean      397.578372       9.767639          1.680380   \n",
       "std         9.699785       0.387007          0.069249   \n",
       "min       376.249000       8.753340          1.519820   \n",
       "25%       394.264000       9.527360          1.647310   \n",
       "50%       399.249000       9.798100          1.697600   \n",
       "75%       402.968000      10.038000          1.728330   \n",
       "max       418.641000      10.808100          1.853250   \n",
       "\n",
       "       Flotation Column 01 Air Flow  Flotation Column 02 Air Flow  \\\n",
       "count                 737453.000000                 737453.000000   \n",
       "mean                     280.151856                    277.159965   \n",
       "std                       29.621288                     30.149357   \n",
       "min                      175.510000                    175.156000   \n",
       "25%                      250.281000                    250.457000   \n",
       "50%                      299.344000                    296.223000   \n",
       "75%                      300.149000                    300.690000   \n",
       "max                      373.871000                    375.992000   \n",
       "\n",
       "       Flotation Column 03 Air Flow  ...  Flotation Column 07 Air Flow  \\\n",
       "count                 737453.000000  ...                 737453.000000   \n",
       "mean                     281.082397  ...                    290.754856   \n",
       "std                       28.558268  ...                     28.670105   \n",
       "min                      176.469000  ...                    185.962000   \n",
       "25%                      250.855000  ...                    256.302000   \n",
       "50%                      298.696000  ...                    299.011000   \n",
       "75%                      300.382000  ...                    301.904000   \n",
       "max                      364.346000  ...                    371.593000   \n",
       "\n",
       "       Flotation Column 01 Level  Flotation Column 02 Level  \\\n",
       "count              737453.000000              737453.000000   \n",
       "mean                  520.244823                 522.649555   \n",
       "std                   131.014924                 128.165050   \n",
       "min                   149.218000                 210.752000   \n",
       "25%                   416.978000                 441.883000   \n",
       "50%                   491.878000                 495.956000   \n",
       "75%                   594.114000                 595.464000   \n",
       "max                   862.274000                 828.919000   \n",
       "\n",
       "       Flotation Column 03 Level  Flotation Column 04 Level  \\\n",
       "count              737453.000000              737453.000000   \n",
       "mean                  531.352662                 420.320973   \n",
       "std                   150.842164                  91.794432   \n",
       "min                   126.255000                 162.201000   \n",
       "25%                   411.325000                 356.679000   \n",
       "50%                   494.318000                 411.974000   \n",
       "75%                   601.249000                 485.549000   \n",
       "max                   886.822000                 680.359000   \n",
       "\n",
       "       Flotation Column 05 Level  Flotation Column 06 Level  \\\n",
       "count              737453.000000              737453.000000   \n",
       "mean                  425.251706                 429.941018   \n",
       "std                    84.535822                  89.862225   \n",
       "min                   166.991000                 155.841000   \n",
       "25%                   357.653000                 358.497000   \n",
       "50%                   408.773000                 424.664575   \n",
       "75%                   484.329000                 492.684000   \n",
       "max                   675.644000                 698.861000   \n",
       "\n",
       "       Flotation Column 07 Level  % Iron Concentrate  % Silica Concentrate  \n",
       "count              737453.000000       737453.000000         737453.000000  \n",
       "mean                  421.021231           65.050068              2.326763  \n",
       "std                    84.891491            1.118645              1.125554  \n",
       "min                   175.349000           62.050000              0.600000  \n",
       "25%                   356.772000           64.370000              1.440000  \n",
       "50%                   411.065000           65.210000              2.000000  \n",
       "75%                   476.465000           65.860000              3.010000  \n",
       "max                   659.902000           68.010000              5.530000  \n",
       "\n",
       "[8 rows x 23 columns]"
      ]
     },
     "execution_count": 6,
     "metadata": {},
     "output_type": "execute_result"
    }
   ],
   "source": [
    "mainData.describe()"
   ]
  },
  {
   "cell_type": "markdown",
   "metadata": {},
   "source": [
    "<h3><a id=\"step22\">4.2. Examine Data as Mineral Processing Engineer:\n",
    "</a></h3>"
   ]
  },
  {
   "cell_type": "markdown",
   "metadata": {},
   "source": [
    "<h3><p style=\"text-align:center;\">The plant flowsheet is probably (untold) like:</h3>\n",
    "\n",
    "<img src=\"flowsheet .jpg\" width=\"400\" height=\"500\">"
   ]
  },
  {
   "cell_type": "markdown",
   "metadata": {},
   "source": [
    "<h4>Let’s deep inside to Data:\n",
    "- Data can be record at 10 second frequency.\n",
    "- Flows can be measured\n",
    "- pH can be measured.\n",
    "- Feed and Concentrate grade can be analyzed instantly.\n",
    "- Columns has level sensor.\n",
    "In order to obtain this data, plant must be operating with established automation system. It is not\n",
    "possible collect this data with this frequency by human hand.\n",
    "In order to fully analyze a Flotation Plant, we need to obtain the minimum data below, which is\n",
    "available in a plant operated with Scada.\n",
    "\n",
    "\n",
    "Missing data in the data that should be a minimum for analysis.\n",
    "\n",
    "1. Recovery \n",
    "2. Liberation Degree, Grinding Performance\n",
    "3. Pumps Amperes, Pressures, Flows\n",
    "4. Feed Tons\n",
    "5. Feed and Tail Grades for Every Columns \n",
    "6. Mineralogy\n",
    "\n"
   ]
  },
  {
   "cell_type": "markdown",
   "metadata": {},
   "source": [
    "<hr style=\"border: none; border-bottom: 2px solid lightblue;\">\n",
    "\n",
    "<h1><a id=\"step3\">5.CRISP-DM STEP-3: DATA PREPARATION</a></h1>\n",
    "\n"
   ]
  },
  {
   "cell_type": "markdown",
   "metadata": {},
   "source": [
    "<h4>There is no need for unit conversions in data. I just changed the \"date\" column from the \"object\"\n",
    "data type to the \"datatime64\"."
   ]
  },
  {
   "cell_type": "code",
   "execution_count": 46,
   "metadata": {},
   "outputs": [],
   "source": [
    "#change date columns as datamine\n",
    "mainData['date'] = pd.to_datetime(mainData['date'])"
   ]
  },
  {
   "cell_type": "markdown",
   "metadata": {},
   "source": [
    "\n",
    "<h3><a id=\"step31\">5.1. Grouping Rows with Hourly Frequency</a></h3>"
   ]
  },
  {
   "cell_type": "markdown",
   "metadata": {},
   "source": [
    "<h4>I indicated about the need to consider the plant data as a totality. So how do we do this on\n",
    "data? By doing loop-based analysis. My solution is to consider each row of data on a loop. We\n",
    "feed 100 tons of ore to the plant, enrich it and complete the cycle. In this data I set each cycle as\n",
    "1 hour. That is, we take a photograph of the plant every hour and analyze it on this photograph.\n",
    "If we had more regular data, we could do these cycles even for 1 minute, then we would have\n",
    "more cycles for machine learning.\n",
    "\n"
   ]
  },
  {
   "cell_type": "code",
   "execution_count": 9,
   "metadata": {},
   "outputs": [
    {
     "name": "stdout",
     "output_type": "stream",
     "text": [
      "Shape of Cycle Data =  (4415, 24)\n",
      "Shape of Cycle Data after drop null values =  (4097, 24)\n"
     ]
    }
   ],
   "source": [
    "mainData['date'] = pd.to_datetime(mainData['date'])\n",
    "#grouping the data according to the hours and get their average values. \n",
    "cycle_data = mainData.groupby(pd.Grouper(key='date',freq='H')).mean()\n",
    "# cycle_data.insert(0,'Date',cycle_data.index)\n",
    "cycle_data.reset_index(inplace = True)\n",
    "\n",
    "#some rows have 'null' values because of timing. We need to drop them \n",
    "print('Shape of Cycle Data = ', cycle_data.shape)\n",
    "cycle_data = cycle_data.dropna()\n",
    "print('Shape of Cycle Data after drop null values = ', cycle_data.shape)"
   ]
  },
  {
   "cell_type": "code",
   "execution_count": 10,
   "metadata": {},
   "outputs": [
    {
     "data": {
      "text/plain": [
       "date                            datetime64[ns]\n",
       "% Iron Feed                            float64\n",
       "% Silica Feed                          float64\n",
       "Starch Flow                            float64\n",
       "Amina Flow                             float64\n",
       "Ore Pulp Flow                          float64\n",
       "Ore Pulp pH                            float64\n",
       "Ore Pulp Density                       float64\n",
       "Flotation Column 01 Air Flow           float64\n",
       "Flotation Column 02 Air Flow           float64\n",
       "Flotation Column 03 Air Flow           float64\n",
       "Flotation Column 04 Air Flow           float64\n",
       "Flotation Column 05 Air Flow           float64\n",
       "Flotation Column 06 Air Flow           float64\n",
       "Flotation Column 07 Air Flow           float64\n",
       "Flotation Column 01 Level              float64\n",
       "Flotation Column 02 Level              float64\n",
       "Flotation Column 03 Level              float64\n",
       "Flotation Column 04 Level              float64\n",
       "Flotation Column 05 Level              float64\n",
       "Flotation Column 06 Level              float64\n",
       "Flotation Column 07 Level              float64\n",
       "% Iron Concentrate                     float64\n",
       "% Silica Concentrate                   float64\n",
       "dtype: object"
      ]
     },
     "execution_count": 10,
     "metadata": {},
     "output_type": "execute_result"
    }
   ],
   "source": [
    "mainData.dtypes"
   ]
  },
  {
   "cell_type": "markdown",
   "metadata": {},
   "source": [
    "<h4>The grouping process has a number of advantages and disadvantages.\n",
    "Advantages:\n",
    "- Each analysis will be able to do each data cycle on an hourly frequency.\n",
    "- Date column can be dropped. The number of columns fell to 23.\n",
    "- The number of rows fell to 4097 from 737453. Every rows means calculations on\n",
    "computer.\n",
    "Disadvantage:\n",
    "- The number of rows fell to 4097 from 737453. The more rows we have for machine\n",
    "learning, the better results we get. This large data loss will adversely affect our\n",
    "estimation results."
   ]
  },
  {
   "cell_type": "code",
   "execution_count": 11,
   "metadata": {
    "scrolled": true
   },
   "outputs": [
    {
     "data": {
      "text/html": [
       "<div>\n",
       "<style scoped>\n",
       "    .dataframe tbody tr th:only-of-type {\n",
       "        vertical-align: middle;\n",
       "    }\n",
       "\n",
       "    .dataframe tbody tr th {\n",
       "        vertical-align: top;\n",
       "    }\n",
       "\n",
       "    .dataframe thead th {\n",
       "        text-align: right;\n",
       "    }\n",
       "</style>\n",
       "<table border=\"1\" class=\"dataframe\">\n",
       "  <thead>\n",
       "    <tr style=\"text-align: right;\">\n",
       "      <th></th>\n",
       "      <th>date</th>\n",
       "      <th>% Iron Feed</th>\n",
       "      <th>% Silica Feed</th>\n",
       "      <th>Starch Flow</th>\n",
       "      <th>Amina Flow</th>\n",
       "      <th>Ore Pulp Flow</th>\n",
       "      <th>Ore Pulp pH</th>\n",
       "      <th>Ore Pulp Density</th>\n",
       "      <th>Flotation Column 01 Air Flow</th>\n",
       "      <th>Flotation Column 02 Air Flow</th>\n",
       "      <th>...</th>\n",
       "      <th>Flotation Column 07 Air Flow</th>\n",
       "      <th>Flotation Column 01 Level</th>\n",
       "      <th>Flotation Column 02 Level</th>\n",
       "      <th>Flotation Column 03 Level</th>\n",
       "      <th>Flotation Column 04 Level</th>\n",
       "      <th>Flotation Column 05 Level</th>\n",
       "      <th>Flotation Column 06 Level</th>\n",
       "      <th>Flotation Column 07 Level</th>\n",
       "      <th>% Iron Concentrate</th>\n",
       "      <th>% Silica Concentrate</th>\n",
       "    </tr>\n",
       "  </thead>\n",
       "  <tbody>\n",
       "    <tr>\n",
       "      <th>0</th>\n",
       "      <td>2017-03-10 01:00:00</td>\n",
       "      <td>55.2</td>\n",
       "      <td>16.98</td>\n",
       "      <td>3162.625026</td>\n",
       "      <td>578.786678</td>\n",
       "      <td>398.753368</td>\n",
       "      <td>10.113487</td>\n",
       "      <td>1.729558</td>\n",
       "      <td>251.166672</td>\n",
       "      <td>250.226086</td>\n",
       "      <td>...</td>\n",
       "      <td>250.208184</td>\n",
       "      <td>450.383776</td>\n",
       "      <td>446.891845</td>\n",
       "      <td>450.474523</td>\n",
       "      <td>449.912259</td>\n",
       "      <td>455.792161</td>\n",
       "      <td>464.383310</td>\n",
       "      <td>450.532747</td>\n",
       "      <td>66.91</td>\n",
       "      <td>1.31</td>\n",
       "    </tr>\n",
       "    <tr>\n",
       "      <th>1</th>\n",
       "      <td>2017-03-10 02:00:00</td>\n",
       "      <td>55.2</td>\n",
       "      <td>16.98</td>\n",
       "      <td>3133.256389</td>\n",
       "      <td>537.219661</td>\n",
       "      <td>399.871822</td>\n",
       "      <td>10.129742</td>\n",
       "      <td>1.667784</td>\n",
       "      <td>249.880589</td>\n",
       "      <td>250.214050</td>\n",
       "      <td>...</td>\n",
       "      <td>249.897572</td>\n",
       "      <td>449.373361</td>\n",
       "      <td>450.249356</td>\n",
       "      <td>450.081222</td>\n",
       "      <td>450.328806</td>\n",
       "      <td>448.722983</td>\n",
       "      <td>455.501528</td>\n",
       "      <td>451.387700</td>\n",
       "      <td>67.06</td>\n",
       "      <td>1.11</td>\n",
       "    </tr>\n",
       "    <tr>\n",
       "      <th>2</th>\n",
       "      <td>2017-03-10 03:00:00</td>\n",
       "      <td>55.2</td>\n",
       "      <td>16.98</td>\n",
       "      <td>3479.482944</td>\n",
       "      <td>591.906744</td>\n",
       "      <td>398.763806</td>\n",
       "      <td>10.048403</td>\n",
       "      <td>1.732711</td>\n",
       "      <td>250.161328</td>\n",
       "      <td>250.104167</td>\n",
       "      <td>...</td>\n",
       "      <td>250.484183</td>\n",
       "      <td>449.972878</td>\n",
       "      <td>450.868711</td>\n",
       "      <td>450.901822</td>\n",
       "      <td>451.145822</td>\n",
       "      <td>451.134189</td>\n",
       "      <td>459.981311</td>\n",
       "      <td>450.296722</td>\n",
       "      <td>66.97</td>\n",
       "      <td>1.27</td>\n",
       "    </tr>\n",
       "    <tr>\n",
       "      <th>3</th>\n",
       "      <td>2017-03-10 04:00:00</td>\n",
       "      <td>55.2</td>\n",
       "      <td>16.98</td>\n",
       "      <td>3228.036436</td>\n",
       "      <td>593.170106</td>\n",
       "      <td>399.866983</td>\n",
       "      <td>9.918614</td>\n",
       "      <td>1.731056</td>\n",
       "      <td>250.208772</td>\n",
       "      <td>250.204761</td>\n",
       "      <td>...</td>\n",
       "      <td>250.157622</td>\n",
       "      <td>487.940706</td>\n",
       "      <td>491.462111</td>\n",
       "      <td>487.387206</td>\n",
       "      <td>494.528183</td>\n",
       "      <td>495.664011</td>\n",
       "      <td>502.763850</td>\n",
       "      <td>494.939889</td>\n",
       "      <td>66.75</td>\n",
       "      <td>1.36</td>\n",
       "    </tr>\n",
       "    <tr>\n",
       "      <th>4</th>\n",
       "      <td>2017-03-10 05:00:00</td>\n",
       "      <td>55.2</td>\n",
       "      <td>16.98</td>\n",
       "      <td>3327.280739</td>\n",
       "      <td>619.710806</td>\n",
       "      <td>399.615089</td>\n",
       "      <td>9.746029</td>\n",
       "      <td>1.765879</td>\n",
       "      <td>249.917800</td>\n",
       "      <td>250.160494</td>\n",
       "      <td>...</td>\n",
       "      <td>250.078639</td>\n",
       "      <td>549.031539</td>\n",
       "      <td>549.983156</td>\n",
       "      <td>549.459572</td>\n",
       "      <td>549.975483</td>\n",
       "      <td>549.512533</td>\n",
       "      <td>560.696300</td>\n",
       "      <td>550.271772</td>\n",
       "      <td>66.63</td>\n",
       "      <td>1.34</td>\n",
       "    </tr>\n",
       "  </tbody>\n",
       "</table>\n",
       "<p>5 rows × 24 columns</p>\n",
       "</div>"
      ],
      "text/plain": [
       "                 date  % Iron Feed  % Silica Feed  Starch Flow  Amina Flow  \\\n",
       "0 2017-03-10 01:00:00         55.2          16.98  3162.625026  578.786678   \n",
       "1 2017-03-10 02:00:00         55.2          16.98  3133.256389  537.219661   \n",
       "2 2017-03-10 03:00:00         55.2          16.98  3479.482944  591.906744   \n",
       "3 2017-03-10 04:00:00         55.2          16.98  3228.036436  593.170106   \n",
       "4 2017-03-10 05:00:00         55.2          16.98  3327.280739  619.710806   \n",
       "\n",
       "   Ore Pulp Flow  Ore Pulp pH  Ore Pulp Density  Flotation Column 01 Air Flow  \\\n",
       "0     398.753368    10.113487          1.729558                    251.166672   \n",
       "1     399.871822    10.129742          1.667784                    249.880589   \n",
       "2     398.763806    10.048403          1.732711                    250.161328   \n",
       "3     399.866983     9.918614          1.731056                    250.208772   \n",
       "4     399.615089     9.746029          1.765879                    249.917800   \n",
       "\n",
       "   Flotation Column 02 Air Flow  ...  Flotation Column 07 Air Flow  \\\n",
       "0                    250.226086  ...                    250.208184   \n",
       "1                    250.214050  ...                    249.897572   \n",
       "2                    250.104167  ...                    250.484183   \n",
       "3                    250.204761  ...                    250.157622   \n",
       "4                    250.160494  ...                    250.078639   \n",
       "\n",
       "   Flotation Column 01 Level  Flotation Column 02 Level  \\\n",
       "0                 450.383776                 446.891845   \n",
       "1                 449.373361                 450.249356   \n",
       "2                 449.972878                 450.868711   \n",
       "3                 487.940706                 491.462111   \n",
       "4                 549.031539                 549.983156   \n",
       "\n",
       "   Flotation Column 03 Level  Flotation Column 04 Level  \\\n",
       "0                 450.474523                 449.912259   \n",
       "1                 450.081222                 450.328806   \n",
       "2                 450.901822                 451.145822   \n",
       "3                 487.387206                 494.528183   \n",
       "4                 549.459572                 549.975483   \n",
       "\n",
       "   Flotation Column 05 Level  Flotation Column 06 Level  \\\n",
       "0                 455.792161                 464.383310   \n",
       "1                 448.722983                 455.501528   \n",
       "2                 451.134189                 459.981311   \n",
       "3                 495.664011                 502.763850   \n",
       "4                 549.512533                 560.696300   \n",
       "\n",
       "   Flotation Column 07 Level  % Iron Concentrate  % Silica Concentrate  \n",
       "0                 450.532747               66.91                  1.31  \n",
       "1                 451.387700               67.06                  1.11  \n",
       "2                 450.296722               66.97                  1.27  \n",
       "3                 494.939889               66.75                  1.36  \n",
       "4                 550.271772               66.63                  1.34  \n",
       "\n",
       "[5 rows x 24 columns]"
      ]
     },
     "execution_count": 11,
     "metadata": {},
     "output_type": "execute_result"
    }
   ],
   "source": [
    "data = cycle_data.copy()\n",
    "data.head()"
   ]
  },
  {
   "cell_type": "markdown",
   "metadata": {},
   "source": [
    "\n",
    "<h3><a id=\"step32\">5.2. Divide Data</a></h3>"
   ]
  },
  {
   "cell_type": "markdown",
   "metadata": {},
   "source": [
    "<h4>Flotation plant product (at least for this missing data) Iron and Silica concentrates namely the\n",
    "last two columns. We will develop separate models for silica and iron in machine learning, so we\n",
    "will separate the columns from the main data as two data types named \"iron_concentrate\" and\n",
    "\"silica_concentrate\".\n",
    "The remaining columns are essentially Flotation conditions required to enrich the concentrate.\n",
    "We also separate them as \"flotation_conditions\"."
   ]
  },
  {
   "cell_type": "code",
   "execution_count": 13,
   "metadata": {},
   "outputs": [
    {
     "name": "stdout",
     "output_type": "stream",
     "text": [
      "Shape of flotation_conditions =  (4097, 21)\n"
     ]
    }
   ],
   "source": [
    "#seperate data as flotation_conditions and concentrates\n",
    "flotation_conditions = data.iloc[:,1:22]\n",
    "concentrates = data.iloc[:,22:]\n",
    "silica_concentrate = concentrates.iloc[:,1].values\n",
    "iron_concentrate = concentrates.iloc[:,0].values\n",
    "\n",
    "print('Shape of flotation_conditions = ', flotation_conditions.shape)"
   ]
  },
  {
   "cell_type": "markdown",
   "metadata": {},
   "source": [
    "<hr style=\"border: none; border-bottom: 2px solid lightblue;\">\n",
    "<h1><a id=\"step4\">6. CRISP-DM STEP-4: MODELING</a></h1>"
   ]
  },
  {
   "cell_type": "markdown",
   "metadata": {},
   "source": [
    "\n",
    "<h3><a id=\"step41\">6.1. P-Value:</a></h3>\n",
    "<h3><p style=\"text-align:center;\"><a href=\"https://medium.com/@ODSC/the-importance-of-p-values-in-data-science-6cb7c7380881\">p-Value Definition</a></p></h3>\n",
    "    "
   ]
  },
  {
   "cell_type": "code",
   "execution_count": 39,
   "metadata": {},
   "outputs": [
    {
     "name": "stdout",
     "output_type": "stream",
     "text": [
      "                            OLS Regression Results                            \n",
      "==============================================================================\n",
      "Dep. Variable:                      y   R-squared:                       0.161\n",
      "Model:                            OLS   Adj. R-squared:                  0.157\n",
      "Method:                 Least Squares   F-statistic:                     37.32\n",
      "Date:                Sat, 26 Sep 2020   Prob (F-statistic):          1.67e-138\n",
      "Time:                        13:09:03   Log-Likelihood:                -5909.9\n",
      "No. Observations:                4097   AIC:                         1.186e+04\n",
      "Df Residuals:                    4075   BIC:                         1.200e+04\n",
      "Df Model:                          21                                         \n",
      "Covariance Type:            nonrobust                                         \n",
      "==============================================================================\n",
      "                 coef    std err          t      P>|t|      [0.025      0.975]\n",
      "------------------------------------------------------------------------------\n",
      "const         51.9575      3.770     13.781      0.000      44.566      59.349\n",
      "x1             0.0335      0.014      2.427      0.015       0.006       0.061\n",
      "x2             0.0275      0.010      2.652      0.008       0.007       0.048\n",
      "x3          5.147e-05   2.15e-05      2.394      0.017    9.33e-06    9.36e-05\n",
      "x4            -0.0041      0.000    -14.023      0.000      -0.005      -0.004\n",
      "x5             0.0159      0.002      7.095      0.000       0.012       0.020\n",
      "x6             0.4388      0.049      9.001      0.000       0.343       0.534\n",
      "x7             3.3555      0.369      9.098      0.000       2.632       4.079\n",
      "x8             0.0047      0.002      2.299      0.022       0.001       0.009\n",
      "x9            -0.0041      0.001     -3.332      0.001      -0.007      -0.002\n",
      "x10            0.0068      0.002      2.978      0.003       0.002       0.011\n",
      "x11           -0.0494      0.009     -5.329      0.000      -0.068      -0.031\n",
      "x12            0.0298      0.006      5.376      0.000       0.019       0.041\n",
      "x13           -0.0047      0.001     -3.223      0.001      -0.007      -0.002\n",
      "x14            0.0034      0.002      2.104      0.035       0.000       0.007\n",
      "x15           -0.0003      0.000     -1.157      0.247      -0.001       0.000\n",
      "x16          8.98e-06      0.000      0.036      0.971      -0.000       0.000\n",
      "x17           -0.0003      0.000     -1.690      0.091      -0.001    5.57e-05\n",
      "x18            0.0003      0.000      0.859      0.390      -0.000       0.001\n",
      "x19            0.0018      0.000      4.072      0.000       0.001       0.003\n",
      "x20           -0.0012      0.000     -3.392      0.001      -0.002      -0.001\n",
      "x21            0.0011      0.000      2.298      0.022       0.000       0.002\n",
      "==============================================================================\n",
      "Omnibus:                      131.351   Durbin-Watson:                   0.622\n",
      "Prob(Omnibus):                  0.000   Jarque-Bera (JB):              143.753\n",
      "Skew:                          -0.459   Prob(JB):                     6.09e-32\n",
      "Kurtosis:                       3.029   Cond. No.                     7.95e+05\n",
      "==============================================================================\n",
      "\n",
      "Warnings:\n",
      "[1] Standard Errors assume that the covariance matrix of the errors is correctly specified.\n",
      "[2] The condition number is large, 7.95e+05. This might indicate that there are\n",
      "strong multicollinearity or other numerical problems.\n"
     ]
    }
   ],
   "source": [
    "'''P-value'''\n",
    "\n",
    "b_zero = np.append(arr = np.ones((len(data.iloc[:,1].values),1)).astype(int),\n",
    "                                                                     values = flotation_conditions,\n",
    "                                                                     axis = 1)\n",
    "\n",
    "silica_concentrate = concentrates.iloc[:,1].values\n",
    "iron_concentrate = concentrates.iloc[:,0].values\n",
    "\n",
    "model_iron = sm.OLS(endog = iron_concentrate,exog = b_zero).fit()\n",
    "print(model_iron.summary())\n"
   ]
  },
  {
   "cell_type": "code",
   "execution_count": 15,
   "metadata": {
    "scrolled": false
   },
   "outputs": [
    {
     "name": "stdout",
     "output_type": "stream",
     "text": [
      "                            OLS Regression Results                            \n",
      "==============================================================================\n",
      "Dep. Variable:                      y   R-squared:                       0.170\n",
      "Model:                            OLS   Adj. R-squared:                  0.166\n",
      "Method:                 Least Squares   F-statistic:                     39.87\n",
      "Date:                Sat, 26 Sep 2020   Prob (F-statistic):          5.62e-148\n",
      "Time:                        09:25:23   Log-Likelihood:                -5911.9\n",
      "No. Observations:                4097   AIC:                         1.187e+04\n",
      "Df Residuals:                    4075   BIC:                         1.201e+04\n",
      "Df Model:                          21                                         \n",
      "Covariance Type:            nonrobust                                         \n",
      "==============================================================================\n",
      "                 coef    std err          t      P>|t|      [0.025      0.975]\n",
      "------------------------------------------------------------------------------\n",
      "const          3.3716      3.772      0.894      0.371      -4.023      10.767\n",
      "x1             0.0004      0.014      0.031      0.975      -0.027       0.028\n",
      "x2             0.0084      0.010      0.814      0.415      -0.012       0.029\n",
      "x3         -8.309e-05   2.15e-05     -3.864      0.000      -0.000   -4.09e-05\n",
      "x4             0.0041      0.000     13.948      0.000       0.004       0.005\n",
      "x5            -0.0073      0.002     -3.265      0.001      -0.012      -0.003\n",
      "x6            -0.2957      0.049     -6.061      0.000      -0.391      -0.200\n",
      "x7            -2.3481      0.369     -6.364      0.000      -3.072      -1.625\n",
      "x8            -0.0093      0.002     -4.555      0.000      -0.013      -0.005\n",
      "x9             0.0013      0.001      1.065      0.287      -0.001       0.004\n",
      "x10           -0.0058      0.002     -2.539      0.011      -0.010      -0.001\n",
      "x11            0.0418      0.009      4.509      0.000       0.024       0.060\n",
      "x12           -0.0057      0.006     -1.030      0.303      -0.017       0.005\n",
      "x13            0.0031      0.001      2.174      0.030       0.000       0.006\n",
      "x14           -0.0006      0.002     -0.341      0.733      -0.004       0.003\n",
      "x15           -0.0001      0.000     -0.496      0.620      -0.001       0.000\n",
      "x16           -0.0002      0.000     -0.986      0.324      -0.001       0.000\n",
      "x17            0.0002      0.000      0.884      0.376      -0.000       0.001\n",
      "x18           -0.0005      0.000     -1.221      0.222      -0.001       0.000\n",
      "x19           -0.0017      0.000     -3.819      0.000      -0.003      -0.001\n",
      "x20            0.0007      0.000      1.922      0.055   -1.35e-05       0.001\n",
      "x21           -0.0003      0.000     -0.708      0.479      -0.001       0.001\n",
      "==============================================================================\n",
      "Omnibus:                      401.297   Durbin-Watson:                   0.572\n",
      "Prob(Omnibus):                  0.000   Jarque-Bera (JB):              525.859\n",
      "Skew:                           0.866   Prob(JB):                    6.47e-115\n",
      "Kurtosis:                       3.289   Cond. No.                     7.95e+05\n",
      "==============================================================================\n",
      "\n",
      "Warnings:\n",
      "[1] Standard Errors assume that the covariance matrix of the errors is correctly specified.\n",
      "[2] The condition number is large, 7.95e+05. This might indicate that there are\n",
      "strong multicollinearity or other numerical problems.\n"
     ]
    }
   ],
   "source": [
    "model_silica = sm.OLS(endog = silica_concentrate,exog = b_zero).fit()\n",
    "print(model_silica.summary())"
   ]
  },
  {
   "cell_type": "code",
   "execution_count": 17,
   "metadata": {},
   "outputs": [],
   "source": [
    "pValue_fe = model_iron.pvalues\n",
    "pValue_si = model_silica.pvalues\n",
    "pValue_fe_list = []\n",
    "pValue_si_list = []\n",
    "for i in range(len(pValue_fe)):\n",
    "    if i > 0:\n",
    "        pValue_fe_list.append(pValue_fe[i])\n",
    "        pValue_si_list.append(pValue_si[i])"
   ]
  },
  {
   "cell_type": "code",
   "execution_count": 25,
   "metadata": {
    "scrolled": false
   },
   "outputs": [
    {
     "data": {
      "image/png": "[encoded data removed]",
      "text/plain": [
       "<Figure size 900x780 with 1 Axes>"
      ]
     },
     "metadata": {
      "needs_background": "light"
     },
     "output_type": "display_data"
    },
    {
     "data": {
      "text/plain": [
       "<Figure size 4320x216 with 0 Axes>"
      ]
     },
     "metadata": {},
     "output_type": "display_data"
    }
   ],
   "source": [
    "width_in_inches = 15\n",
    "height_in_inches = 13\n",
    "dots_per_inch = 60\n",
    "\n",
    "plt.figure(\n",
    "    figsize=(width_in_inches, height_in_inches),\n",
    "    dpi=dots_per_inch)\n",
    "\n",
    "t = flotation_conditions.columns\n",
    "fe = pValue_fe_list\n",
    "si = pValue_si_list\n",
    "plot(t, fe, label = 'Fe', color = 'blue',marker='o')\n",
    "plot(t, si, label = 'Si',color = 'red', marker='x')\n",
    "plt.xticks(rotation=90)\n",
    "plt.legend(loc=\"upper right\",prop={\"size\":25})\n",
    "ylabel('P Value',fontsize = 20)\n",
    "title('P Value of Si adn Fe Cocentrates',fontsize = 25)\n",
    "grid(True)\n",
    "plt.figure(figsize=(60,3))\n",
    "plt.savefig(\"p_values.png\")\n",
    "show()\n"
   ]
  },
  {
   "cell_type": "markdown",
   "metadata": {},
   "source": [
    "<h4>When we examine the P values, we see that some values do not affect the concentrated grades.\n",
    "But now we know that this is due to our lack of data. What would you think if you saw that the\n",
    "cocoa had no effect on the chocolate produced in the chocolate factory?"
   ]
  },
  {
   "cell_type": "markdown",
   "metadata": {},
   "source": [
    "\n",
    "<h3><a id=\"step42\">6.2. Confidence Interval:</a></h3>\n",
    "<h3><p style=\"text-align:center;\"><a href=\"http://mlwiki.org/index.php/Confidence_Intervals\">Confidence Interval Definition</a></p></h3>"
   ]
  },
  {
   "cell_type": "code",
   "execution_count": 19,
   "metadata": {},
   "outputs": [
    {
     "name": "stdout",
     "output_type": "stream",
     "text": [
      "Confidence interval of Fe Concentrate: [65.01585076976251, 65.0843176461516]\n",
      "Confidence interval of Silica Concentrate: [2.292315650512625, 2.361191793958939]\n"
     ]
    }
   ],
   "source": [
    "#Confidence Intervals\n",
    "\n",
    "m_fe = iron_concentrate.mean()\n",
    "se_fe = iron_concentrate.std()/math.sqrt(len(iron_concentrate))\n",
    "ci_fe = [m_fe - se_fe*1.96, m_fe + se_fe*1.96]\n",
    "\n",
    "\n",
    "m_si = silica_concentrate.mean()\n",
    "se_si = silica_concentrate.std()/math.sqrt(len(silica_concentrate))\n",
    "ci_si = [m_si - se_si*1.96, m_si + se_si*1.96]\n",
    "\n",
    "print  ('Confidence interval of Fe Concentrate:' ,ci_fe)\n",
    "print  ('Confidence interval of Silica Concentrate:' ,ci_si)"
   ]
  },
  {
   "cell_type": "markdown",
   "metadata": {},
   "source": [
    "<h4>Metallurgical engineers apply the pouring process to the concentrate we sell and obtain pure\n",
    "iron. There is a grade range they demand from us for this operation:\n",
    "%67 – 68 Fe Grade\n",
    "%1.6 – 1.7 Si Grade\n",
    "In the model we developed according to the confidence interval, the silica values are more than\n",
    "demanded. In the first stage, we need to warn the engineers in the field. (Assuming our data is\n",
    "reliable.)</h4>\n",
    "\n"
   ]
  },
  {
   "cell_type": "markdown",
   "metadata": {},
   "source": [
    "<hr style=\"border: none; border-bottom: 2px solid lightblue;\">\n",
    "<h1><a id=\"step5\">7. CRISP-DM STEP-5: EVALUATION</a></h1>"
   ]
  },
  {
   "cell_type": "markdown",
   "metadata": {},
   "source": [
    "\n",
    "<h3> <a id=\"step51\">7.1. R-squared in Regression Analysis</a></h3>\n",
    "<h3><p style=\"text-align:center;\"><a href=\"https://www.geeksforgeeks.org/ml-r-squared-in-regression-analysis/\">Confidence Interval Definition</a></p></h3>\n"
   ]
  },
  {
   "cell_type": "markdown",
   "metadata": {},
   "source": [
    "\n",
    "<h3><a id=\"step52\">7.2. Multi Linear Regression Analysis</a></h3>"
   ]
  },
  {
   "cell_type": "code",
   "execution_count": 27,
   "metadata": {},
   "outputs": [
    {
     "name": "stderr",
     "output_type": "stream",
     "text": [
      "No handles with labels found to put in legend.\n"
     ]
    },
    {
     "data": {
      "image/png": "[encoded data removed]",
      "text/plain": [
       "<Figure size 900x780 with 1 Axes>"
      ]
     },
     "metadata": {
      "needs_background": "light"
     },
     "output_type": "display_data"
    },
    {
     "data": {
      "text/plain": [
       "<Figure size 4320x216 with 0 Axes>"
      ]
     },
     "metadata": {},
     "output_type": "display_data"
    }
   ],
   "source": [
    "width_in_inches = 15\n",
    "height_in_inches = 13\n",
    "dots_per_inch = 60\n",
    "\n",
    "plt.figure(\n",
    "    figsize=(width_in_inches, height_in_inches),\n",
    "    dpi=dots_per_inch)\n",
    "\n",
    "x_axis = data['% Iron Concentrate']\n",
    "y_axis = data['% Iron Feed']\n",
    "plot(x_axis, y_axis,marker='o')\n",
    "plt.xticks(rotation=90)\n",
    "plt.legend(loc=\"upper right\",prop={\"size\":25})\n",
    "xlabel('% Iron Concentrate',fontsize = 20)\n",
    "ylabel('% Iron Feed',fontsize = 20)\n",
    "title('% Iron Concentrate vs % Iron Feed',fontsize = 25)\n",
    "grid(True)\n",
    "plt.figure(figsize=(60,3))\n",
    "show()"
   ]
  },
  {
   "cell_type": "markdown",
   "metadata": {},
   "source": [
    "<h4>As you can see in plot, there is no Linear Reletionship betweenn Iron Feed and Iron Concentration, this is just example. The other columns relation ships are same. I am waiting for a low result of R2-Score from Multi Linear Regression Analysis"
   ]
  },
  {
   "cell_type": "code",
   "execution_count": 41,
   "metadata": {},
   "outputs": [],
   "source": [
    "#train test split for regression training and testing \n",
    "x_train, x_test, y_train, y_test = train_test_split(flotation_conditions,\n",
    "                                                    concentrates,\n",
    "                                                    test_size = 0.15,\n",
    "                                                    random_state = 0)"
   ]
  },
  {
   "cell_type": "code",
   "execution_count": 24,
   "metadata": {},
   "outputs": [
    {
     "name": "stdout",
     "output_type": "stream",
     "text": [
      "R2 Score of Multi Linear Regression 0.1937350819614665\n"
     ]
    }
   ],
   "source": [
    "'''MLR'''\n",
    "regressor_mlr = LinearRegression()\n",
    "regressor_mlr.fit(x_train,y_train) #x trainden y traini öğren \n",
    "\n",
    "y_pred_mlr = regressor_mlr.predict(x_test)\n",
    "print('R2 Score of Multi Linear Regression',r2_score(y_test,y_pred_mlr))"
   ]
  },
  {
   "cell_type": "markdown",
   "metadata": {},
   "source": [
    "<h4>It has become clear that the Multi Linear Regression model cannot be used. I will focus on\n",
    "Random Forest machine learning model development."
   ]
  },
  {
   "cell_type": "markdown",
   "metadata": {},
   "source": [
    "\n",
    "<h3> <a id=\"step53\">7.3. Random Forest Regressor:</a></h3>\n",
    "<h3><p style=\"text-align:center;\"><a href=\"https://en.wikipedia.org/wiki/Random_forest\">Random Forest Regressor Definition</a></p></h3> "
   ]
  },
  {
   "cell_type": "markdown",
   "metadata": {},
   "source": [
    "<h4>The first time I divided the data as train test split at 0.33 degree and applied Random Forest\n",
    "machine learning, but I got very low r-Square values. Finally, I used all the data for training and\n",
    "got the following results. Despite the lack of data, the result is satisfactory."
   ]
  },
  {
   "cell_type": "code",
   "execution_count": 38,
   "metadata": {},
   "outputs": [
    {
     "name": "stdout",
     "output_type": "stream",
     "text": [
      "R2 Score of Random Forest Regression with Train-Test Split 0.3488815461520614\n",
      "R2 Score of Random Forest Regression with Whole Data 0.8202657996385305\n"
     ]
    }
   ],
   "source": [
    "'''RANDOM FOREST with Train-Test Split'''\n",
    "\n",
    "regressor_randForest = RandomForestRegressor(random_state = 0, n_estimators = 100)  \n",
    "regressor_randForest.fit(x_train,y_train) \n",
    "y_pred_rf = regressor_randForest.predict(x_test)\n",
    "\n",
    "regressor_randForest2 = RandomForestRegressor(random_state = 0, n_estimators = 100)  \n",
    "regressor_randForest2.fit(flotation_conditions,concentrates)\n",
    "y_pred_rf2 = regressor_randForest.predict(flotation_conditions)\n",
    " \n",
    "print('R2 Score of Random Forest Regression with Train-Test Split',r2_score(y_test,y_pred_rf))\n",
    "print('R2 Score of Random Forest Regression with Whole Data',r2_score(concentrates,y_pred_rf2))"
   ]
  },
  {
   "cell_type": "markdown",
   "metadata": {},
   "source": [
    "<h4>As I mentioned before I divided concentrations and again applied Random Forest separately to Iron and Silica Concentration grades. R2-Score result is marvelous. "
   ]
  },
  {
   "cell_type": "code",
   "execution_count": 31,
   "metadata": {},
   "outputs": [
    {
     "name": "stdout",
     "output_type": "stream",
     "text": [
      "R2 Score of Random Forest Regression with Only Iron 0.9086194504298444\n"
     ]
    }
   ],
   "source": [
    "'''Iron Random Forest Model'''\n",
    "regressor_Fe = RandomForestRegressor(random_state = 0, n_estimators = 100)  \n",
    "regressor_Fe.fit(flotation_conditions,iron_concentrate) \n",
    "y_pred_Fe = regressor_Fe.predict(flotation_conditions)\n",
    "\n",
    "print('R2 Score of Random Forest Regression with Only Iron',r2_score(iron_concentrate,y_pred_Fe))"
   ]
  },
  {
   "cell_type": "code",
   "execution_count": 32,
   "metadata": {},
   "outputs": [
    {
     "name": "stdout",
     "output_type": "stream",
     "text": [
      "R2 Score of Random Forest Regression with Only Silica 0.9090494050116655\n"
     ]
    }
   ],
   "source": [
    "'''Silica Random Forest Model'''\n",
    "regressor_Si = RandomForestRegressor(random_state = 0, n_estimators = 100)  \n",
    "regressor_Si.fit(flotation_conditions,silica_concentrate) \n",
    "y_pred_Si = regressor_Si.predict(flotation_conditions)\n",
    "\n",
    "print('R2 Score of Random Forest Regression with Only Silica',r2_score(silica_concentrate,y_pred_Si))"
   ]
  },
  {
   "cell_type": "markdown",
   "metadata": {},
   "source": [
    "<img src=\"done.jpg\" alt=\"Italian Trulli\" width=\"300\" height=\"300\">\n"
   ]
  },
  {
   "cell_type": "markdown",
   "metadata": {},
   "source": [
    "<hr style=\"border: none; border-bottom: 2px solid lightblue;\">\n",
    "<h1><a id=\"step6\">8. CRISP-DM STEP-6: DEPLOYMENT</a></h1>"
   ]
  },
  {
   "cell_type": "markdown",
   "metadata": {},
   "source": [
    "<h3><a id=\"step61\">8.1. First Predictions:</a><h3>\n"
   ]
  },
  {
   "cell_type": "markdown",
   "metadata": {},
   "source": [
    "<h4>I will feed to ML random values as conditions and demand to predict concentrate\n",
    "values</h4>"
   ]
  },
  {
   "cell_type": "code",
   "execution_count": 42,
   "metadata": {},
   "outputs": [],
   "source": [
    "#feel free change values and see results\n",
    "predictions = {'% Iron Feed':50.5,\n",
    "          '% Silica Feed':13.3,\n",
    "          'Starch Flow':3500.0,\n",
    "          'Amina Flow':580.0,\n",
    "          'Ore Pulp Flow':400.0,\n",
    "          'Ore Pulp pH':10.11,\n",
    "          'Ore Pulp Density':1.69,\n",
    "          'Flotation Column 01 Air Flow':250.0,\n",
    "          'Flotation Column 02 Air Flow':150.0,\n",
    "          'Flotation Column 03 Air Flow':270.0,\n",
    "          'Flotation Column 04 Air Flow':190.0,\n",
    "          'Flotation Column 05 Air Flow':230.0,\n",
    "          'Flotation Column 06 Air Flow':200.0,\n",
    "          'Flotation Column 07 Air Flow':240.0,\n",
    "          'Flotation Column 01 Level':480,\n",
    "          'Flotation Column 02 Level':210.0,\n",
    "          'Flotation Column 03 Level':550.0,\n",
    "          'Flotation Column 04 Level':620.0,\n",
    "          'Flotation Column 05 Level':610.0,\n",
    "          'Flotation Column 06 Level':615.0,\n",
    "          'Flotation Column 07 Level':616.0,\n",
    "          }"
   ]
  },
  {
   "cell_type": "code",
   "execution_count": 43,
   "metadata": {},
   "outputs": [
    {
     "name": "stdout",
     "output_type": "stream",
     "text": [
      "Predicted Fe Concentrate = [64.96165] %\n",
      "Predicted Silica Concentrate = [2.46170555] %\n"
     ]
    }
   ],
   "source": [
    "#to see predictions, run this code\n",
    "predict_values = []\n",
    "for value in predictions.values(): \n",
    "    predict_values.append(value)\n",
    "\n",
    "predict_Fe = regressor_Fe.predict([predict_values])\n",
    "predict_Si = regressor_Si.predict([predict_values])\n",
    "\n",
    "print('Predicted Fe Concentrate =',predict_Fe,'%')\n",
    "print('Predicted Silica Concentrate =',predict_Si,'%')"
   ]
  },
  {
   "cell_type": "markdown",
   "metadata": {},
   "source": [
    "<h3><a id=\"step62\">8.2. Second Predictions:</a></h3>\n",
    "\n",
    "<h4>I will feed to ML mean values of the main data and demand to predict\n",
    "concentrate values.</h4>"
   ]
  },
  {
   "cell_type": "code",
   "execution_count": 22,
   "metadata": {},
   "outputs": [
    {
     "name": "stdout",
     "output_type": "stream",
     "text": [
      "Predicted Fe Concentrate from Conditions mean  = [64.83364983] %\n",
      "Predicted Silica Concentrate from Conditions mean = [2.96153289] %\n"
     ]
    }
   ],
   "source": [
    "predict_from_means = flotation_conditions.describe().mean()\n",
    "predict_Fe = regressor_Fe.predict([predict_from_means])\n",
    "predict_Si = regressor_Si.predict([predict_from_means])\n",
    "\n",
    "print('Predicted Fe Concentrate from Conditions mean  =',predict_Fe,'%')\n",
    "print('Predicted Silica Concentrate from Conditions mean =',predict_Si,'%')"
   ]
  },
  {
   "cell_type": "markdown",
   "metadata": {},
   "source": [
    "<h4>We obtained the values we determined in the Confidence Intervals. The results are also very close to\n",
    "the average tenor values.\n",
    "After all, we have a working ML\n",
    "application.\n",
    "\n"
   ]
  },
  {
   "cell_type": "markdown",
   "metadata": {},
   "source": [
    "<hr style=\"border: none; border-bottom: 2px solid lightblue;\">\n",
    "<h1><a id=\"conc\">9. CONCLUSION</a><h1>"
   ]
  },
  {
   "cell_type": "markdown",
   "metadata": {},
   "source": [
    "<h4>With the analysis made over the same data set, we can write thousands more questions and get\n",
    "results.\n",
    "\n",
    "Our touchstone data on the road to IoT (internet of things) and how we store them. As long as we\n",
    "take care of our data and enrich them, the future is not far away. The more data you get, the more\n",
    "accurate results are inevitable.\n",
    "\n",
    "Artificial intelligence, which analyzes the ore coming from the mine and gives us the facility\n",
    "parameters as ready and calculate equipment maintenance possibilities, is now very close.</h4>\n",
    "<br>\n",
    "\n",
    "<b><p style=\"text-align:right;\"><font size =\"3\" color =\"Black\">See you on the next project.</font></b> \n",
    "<b><p style=\"text-align:right;\"><font size =\"3\" color =\"Black\">Aydin AKTAR</font></b> \n"
   ]
  },
  {
   "cell_type": "markdown",
   "metadata": {},
   "source": [
    "<img src=\"good_luck.jpg\" align = 'right' width=\"200\" height=\"200\">\n",
    "\n",
    "\n"
   ]
  }
 ],
 "metadata": {
  "kernelspec": {
   "display_name": "Python 3",
   "language": "python",
   "name": "python3"
  },
  "language_info": {
   "codemirror_mode": {
    "name": "ipython",
    "version": 3
   },
   "file_extension": ".py",
   "mimetype": "text/x-python",
   "name": "python",
   "nbconvert_exporter": "python",
   "pygments_lexer": "ipython3",
   "version": "3.7.6"
  }
 },
 "nbformat": 4,
 "nbformat_minor": 4
}
